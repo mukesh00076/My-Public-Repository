{
 "cells": [
  {
   "cell_type": "markdown",
   "metadata": {},
   "source": [
    "# Automate_the_Boring_Stuff "
   ]
  },
  {
   "cell_type": "code",
   "execution_count": null,
   "metadata": {},
   "outputs": [],
   "source": [
    "fname = 'mukesh'\n",
    "lname = 'patil'\n",
    "full_name = f\"{fname} {lname}\"\n",
    "print(full_name)"
   ]
  },
  {
   "cell_type": "code",
   "execution_count": null,
   "metadata": {},
   "outputs": [],
   "source": [
    "passwordfile = open('SecretPasswordFile.txt', 'r')\n",
    "print('Enter your password:')\n",
    "typedPassword = input()\n",
    "\n",
    "for line in passwordfile.readlines():\n",
    "    line = line.rstrip()             # remove '\\n' at end of line\n",
    "    if typedPassword == str(line):   \n",
    "        print('Access granted')\n",
    "        break\n",
    "    elif typedPassword == '12345':\n",
    "        print('That password is one that an idiot puts on their luggage.')\n",
    "        break \n",
    "    elif typedPassword != str(line):\n",
    "        continue"
   ]
  },
  {
   "cell_type": "code",
   "execution_count": null,
   "metadata": {},
   "outputs": [],
   "source": [
    "squares = []\n",
    "for x in range(1, 11):\n",
    "    y = squares.append(x ** 2)\n",
    "\n",
    "print(squares)\n",
    "\n",
    "#List comprehensions\n",
    "squares= [(x**2) for x in range(1, 11)]\n",
    "\n",
    "print(squares)"
   ]
  },
  {
   "cell_type": "code",
   "execution_count": null,
   "metadata": {},
   "outputs": [],
   "source": [
    "'''Tuples - Items are non-mutables(used for user credentials). Non ordered ''' \n",
    "email = ('mukesh@', 'ram@', 'raj@', 1234, )\n",
    "Gmail = ()\n",
    "Gmail = email\n",
    "print(Gmail)"
   ]
  },
  {
   "cell_type": "code",
   "execution_count": null,
   "metadata": {},
   "outputs": [],
   "source": [
    "'''Dictionaries store connections between pieces of information. Each item in a dictionary is a key-value pair.'''\n",
    "my_dict = {1: 'bus', 'auto': 2, 'list': [1,2,3], 'tuple': (3,4,'five'), 'dict': {5: 5, 6: 6, 7: 'seven'}, 'mul': 2*2 }\n",
    "print(f\"Assigning value: {my_dict['dict'][5]}\")\n",
    "\n",
    "'''Adding a new key-value pair'''\n",
    "my_dict['last'] = 100\n",
    "\n",
    "print(f\"Value of key 'auto' is : {my_dict['auto']}\")\n",
    "\n",
    "'''Searching disctionary'''\n",
    "for key, values in my_dict.items():\n",
    "    if (key, values) == ('auto', 2):\n",
    "        print(key, values)"
   ]
  },
  {
   "cell_type": "code",
   "execution_count": null,
   "metadata": {},
   "outputs": [],
   "source": [
    "'''Looping through all key-value pairs'''\n",
    "fav_numbers = {'eric': 17, 'ever': 4}\n",
    "for name, number in fav_numbers.items():\n",
    "        print(f\"{name} loves {number}\")\n",
    "\n",
    "'''Looping through all keys'''\n",
    "for name in fav_numbers.keys():\n",
    "    print(f\"{name} loves a number\")\n",
    "\n",
    "'''Looping through all the values'''\n",
    "for number in fav_numbers.values():\n",
    "    print(f\"{number} is a favorite\")"
   ]
  },
  {
   "cell_type": "code",
   "execution_count": null,
   "metadata": {},
   "outputs": [],
   "source": [
    "name = input(\"What is your name?\")\n",
    "print(f\"Hello! :{name}\")\n",
    "\n",
    "age = input(\"How old are you?\")\n",
    "print(f\"Next year you will be: {int(age) + 1} or { float(int(age) + 1)} haha\")"
   ]
  },
  {
   "cell_type": "code",
   "execution_count": null,
   "metadata": {},
   "outputs": [],
   "source": [
    "i = 4\n",
    "while i <= 4:\n",
    "    print(i)\n",
    "    if i == 1:\n",
    "        i = 0\n",
    "        while i <= 4:\n",
    "            print(i)\n",
    "            if i == 4:\n",
    "                break\n",
    "            i += 1\n",
    "        break\n",
    "    i -= 1 "
   ]
  },
  {
   "cell_type": "code",
   "execution_count": null,
   "metadata": {},
   "outputs": [],
   "source": [
    "msg = ''\n",
    "while msg != 'quit':\n",
    "    msg = input(\"What's your message? \")\n",
    "    print(msg)"
   ]
  },
  {
   "cell_type": "code",
   "execution_count": null,
   "metadata": {},
   "outputs": [],
   "source": [
    "'''Functions are named blocks of code, designed to do one specific job. Information passed to a function is called an\n",
    "argument, and information received by a function is called a parameter.'''\n",
    "\n",
    "def function_name (parameter1, parameter2):\n",
    "    parameter3 = parameter1 + parameter2\n",
    "    return parameter3\n",
    "\n",
    "function_name(10, 20) # 10 and 20 are agruments"
   ]
  },
  {
   "cell_type": "code",
   "execution_count": null,
   "metadata": {},
   "outputs": [],
   "source": [
    "def greet_user(username): #'''Display a personalized greeting.'''\n",
    "    print(f\"Hello, {username}!\")\n",
    "\n",
    "greet_user('jesse')"
   ]
  },
  {
   "cell_type": "code",
   "execution_count": null,
   "metadata": {},
   "outputs": [],
   "source": [
    "def make_pizza(topping='bacon'):\n",
    "    print(f\"Have a {topping} pizza!\")\n",
    "\n",
    "make_pizza()\n",
    "make_pizza('pepperoni')"
   ]
  },
  {
   "cell_type": "code",
   "execution_count": null,
   "metadata": {},
   "outputs": [],
   "source": [
    "class dog:\n",
    "    def __init__(self, name):\n",
    "        self.name = name\n",
    "    def sit(self):\n",
    "        print(f\"{self.name} is sitting\")\n",
    "        return 'My Puppy Peso'\n",
    "    \n",
    "class puppy(dog):\n",
    "        def pyppy_dog(self):\n",
    "            print(f\"{self.name} is a great puppy\") \n",
    "\n",
    "        def jump(self):\n",
    "            print(f\"{mydog.sit()}  is  jumping\") \n",
    "            \n",
    "mydog = dog('Peso')\n",
    "print(f\"{mydog.name}  is a great dog\")\n",
    "mydog.sit()\n",
    "print(\"\")\n",
    "\n",
    "mydog = puppy('Little Peso')\n",
    "print(f\"{mydog.name}  is a great dog\")\n",
    "mydog.sit()\n",
    "mydog.pyppy_dog()\n",
    "mydog.jump()"
   ]
  },
  {
   "cell_type": "code",
   "execution_count": null,
   "metadata": {},
   "outputs": [],
   "source": [
    "filename = open(\"SecretPasswordFile.txt\", 'r+')\n",
    "line = []\n",
    "for line in filename.readlines():\n",
    "    print(line)\n",
    "filename.close()"
   ]
  },
  {
   "cell_type": "code",
   "execution_count": null,
   "metadata": {},
   "outputs": [],
   "source": [
    "filename = 'SecretPasswordFile.txt'\n",
    "with open(filename, 'r') as file_object:\n",
    "    lines = file_object.readlines()\n",
    "    for line in lines:\n",
    "        print(line)"
   ]
  },
  {
   "cell_type": "code",
   "execution_count": null,
   "metadata": {},
   "outputs": [],
   "source": [
    "filename = 'SecretPasswordFile.txt'         # Reading a file and storing its lines\n",
    "with open(filename) as file_object:\n",
    "    lines = file_object.readlines()\n",
    "    for line in lines:\n",
    "            print(line)"
   ]
  },
  {
   "cell_type": "code",
   "execution_count": null,
   "metadata": {},
   "outputs": [],
   "source": [
    "filename = 'SecretPasswordFile_2.txt'\n",
    "with open(filename, 'w') as file_object:\n",
    "    file_object.write(\"I love programming.\")"
   ]
  },
  {
   "cell_type": "code",
   "execution_count": null,
   "metadata": {},
   "outputs": [],
   "source": [
    "filename = 'SecretPasswordFile_2.txt'\n",
    "with open(filename, 'r') as file_object:\n",
    "    print(file_object.readlines())"
   ]
  },
  {
   "cell_type": "code",
   "execution_count": null,
   "metadata": {},
   "outputs": [],
   "source": [
    "filename = 'SecretPasswordFile_2.txt'\n",
    "with open(filename, 'a') as file_object:\n",
    "    file_object.write(\"\\nI love making games.\")"
   ]
  },
  {
   "cell_type": "code",
   "execution_count": null,
   "metadata": {},
   "outputs": [],
   "source": [
    "num_tickets = input(\"How many tickets do you need?\")\n",
    "try:\n",
    "    num_tickets = int(num_tickets)\n",
    "except ValueError:\n",
    "    print(\"Please try again\")\n",
    "else:\n",
    "    print(\"Ticket is printing...\")"
   ]
  },
  {
   "cell_type": "code",
   "execution_count": null,
   "metadata": {},
   "outputs": [],
   "source": [
    "'''List slicing - List are mutables and ordered /index''' \n",
    "finishers = ['sam', 'bob', 'ada', 'bea']\n",
    "print(finishers[2])\n",
    "print(finishers[:2])\n",
    "print(finishers[2:])\n",
    "print(finishers[-2:])\n",
    "'''Copy slicing'''\n",
    "copy_of_finishers = finishers[:]\n",
    "print(copy_of_finishers)"
   ]
  },
  {
   "cell_type": "code",
   "execution_count": null,
   "metadata": {},
   "outputs": [],
   "source": [
    "vehicals = [ 1, 'car', 2, 'bus', 'train', 3, 'cycle', 4, 'bike']\n",
    "\n",
    "print(vehicals[0])\n",
    "print(vehicals[-1])\n",
    "'''conditional statement'''\n",
    "if 'plane' not in vehicals:\n",
    "    print(\"Plane not in List\")\n",
    "if 'bus' in vehicals:\n",
    "    print(\"Bus in List\")"
   ]
  },
  {
   "cell_type": "code",
   "execution_count": null,
   "metadata": {},
   "outputs": [],
   "source": [
    "vehicals = ['q','w','e']\n",
    "for vehical in vehicals:\n",
    "    print(vehical)"
   ]
  },
  {
   "cell_type": "code",
   "execution_count": null,
   "metadata": {},
   "outputs": [],
   "source": [
    "list = [ 1, 'car', 2, 'bus', 'train', 3, 'cycle', 4, 'bike']\n",
    "list.append('Truck')\n",
    "list.append('Auto')\n",
    "print(list)\n",
    "list = [ 1, 'car', 2, 'bus', 'train', 3, 'cycle', 4, 'bike']\n",
    "list.insert(0, 100)\n",
    "print(list)\n",
    "del list[-1]\n",
    "list.remove('car')\n",
    "print(list)\n",
    "list.pop(6)\n",
    "print(list)\n",
    "print(list.pop())\n",
    "print(list)\n",
    "len(list)"
   ]
  },
  {
   "cell_type": "code",
   "execution_count": null,
   "metadata": {},
   "outputs": [],
   "source": [
    "'''Sorting a list:- The sort() method changes the order of a list permanently. The sorted() function returns a copy of the\n",
    "list, leaving the original list unchanged. You can sort the items in a list in alphabetical order, or reverse alphabetical\n",
    "order. You can also reverse the original order of the list. Lowercase & uppercase letters may affect the sort order.'''\n"
   ]
  },
  {
   "cell_type": "code",
   "execution_count": null,
   "metadata": {},
   "outputs": [],
   "source": [
    "users = ['val', 'bob', 'mia', 'ron', 'ned']\n",
    "first_user = users[0]\n",
    "last_user = users[-1]\n",
    "pop = users.pop()  #outpout ned\n",
    "users.append('raj')\n",
    "users.append('hat')\n",
    "print(users)\n",
    "users.insert(0, 'start')\n",
    "del users[-1]\n",
    "users.remove('mia')\n",
    "print(users)\n",
    "most_recent_user = users.pop() #remove last item 'raj' and store in most_recent_user\n",
    "first_user = users.pop(0) #remove first item 'start' and store in first_recent_user\n",
    "print(users)\n",
    "print(\"\")\n",
    "users.sort() #.sort() permanently sort the list \n",
    "print(users)\n",
    "users.sort(reverse=True)\n",
    "print(users)\n",
    "print(sorted(users)) #.sorted(list) temp sort the list \n",
    "print(users)\n",
    "print(sorted(users, reverse=True)) #.sorted(list) permanently reverse sort the list \n",
    "print(users)\n",
    "users.reverse()\n",
    "print(users)"
   ]
  },
  {
   "cell_type": "code",
   "execution_count": null,
   "metadata": {},
   "outputs": [],
   "source": [
    "for number in range(3):\n",
    "    print(number)"
   ]
  },
  {
   "cell_type": "code",
   "execution_count": null,
   "metadata": {},
   "outputs": [],
   "source": [
    "for number in range(1, 3):\n",
    "    print(number)"
   ]
  },
  {
   "cell_type": "code",
   "execution_count": null,
   "metadata": {},
   "outputs": [],
   "source": [
    "ages = [93, 99, 66, 17, 85, 1, 35, 82, 2, 77]\n",
    "youngest = min(ages) # max(age) #sum(age) \n",
    "youngest"
   ]
  },
  {
   "cell_type": "code",
   "execution_count": null,
   "metadata": {},
   "outputs": [],
   "source": [
    "finishers = ['kai', 'abe', 'ada', 'gus', 'zoe']  # slicing list\n",
    "first_three = finishers[:3]\n",
    "print(first_three)\n",
    "middle_three = finishers[1:4]\n",
    "print(middle_three)\n",
    "last_three = finishers[-3:]\n",
    "print(last_three)"
   ]
  },
  {
   "cell_type": "code",
   "execution_count": null,
   "metadata": {},
   "outputs": [],
   "source": [
    "alien_0 = {'color': 'green', 'points': 5}\n",
    "print(alien_0['color'])\n",
    "alien_color = alien_0.get('color')\n",
    "print(alien_color)\n",
    "alien_points = alien_0.get('points', 0)\n",
    "print(alien_points)"
   ]
  },
  {
   "cell_type": "code",
   "execution_count": null,
   "metadata": {},
   "outputs": [],
   "source": [
    "alien_0 = {'color': 'green'}\n",
    "alien_color = alien_0.get('color')\n",
    "alien_points = alien_0.get('points', 0)\n",
    "print(alien_color)\n",
    "print(alien_points)"
   ]
  },
  {
   "cell_type": "code",
   "execution_count": null,
   "metadata": {},
   "outputs": [],
   "source": [
    "alien_0 = {'color': 'green', 'points': 5}\n",
    "alien_0['x'] = 0\n",
    "alien_0['y'] = 25\n",
    "alien_0['speed'] = 1.5\n",
    "print(alien_0)"
   ]
  },
  {
   "cell_type": "code",
   "execution_count": null,
   "metadata": {},
   "outputs": [],
   "source": [
    "alien_0 = {}\n",
    "alien_0['color'] = 'green'\n",
    "alien_0['points'] = 5\n",
    "alien_0"
   ]
  },
  {
   "cell_type": "code",
   "execution_count": null,
   "metadata": {},
   "outputs": [],
   "source": [
    "alien_0 = {'color': 'green', 'points': 5}\n",
    "print(alien_0)\n",
    "# Change the alien's color and point value.\n",
    "alien_0['color'] = 'yellow'\n",
    "alien_0['points'] = 10\n",
    "print(alien_0)"
   ]
  },
  {
   "cell_type": "code",
   "execution_count": null,
   "metadata": {},
   "outputs": [],
   "source": [
    "alien_0 = {'color': 'green', 'points': 5}\n",
    "print(alien_0)\n",
    "del alien_0['points']\n",
    "print(alien_0)"
   ]
  },
  {
   "cell_type": "code",
   "execution_count": null,
   "metadata": {},
   "outputs": [],
   "source": [
    "fav_languages = {\n",
    "'jen': 'python',\n",
    "'sarah': 'c',\n",
    "'edward': 'ruby',\n",
    "'phil': 'python',\n",
    "}\n",
    "# Show each person's favorite language.\n",
    "for name, language in fav_languages.items():\n",
    "    print(f\"{name}: {language}\")\n",
    "for name in fav_languages.keys():\n",
    "    print(name)\n",
    "for language in fav_languages.values():\n",
    "    print(language)"
   ]
  },
  {
   "cell_type": "code",
   "execution_count": null,
   "metadata": {},
   "outputs": [],
   "source": []
  },
  {
   "cell_type": "code",
   "execution_count": null,
   "metadata": {},
   "outputs": [],
   "source": [
    "# in reverse order by the person's name.\n",
    "for name in sorted(fav_languages.keys(), reverse=True):\n",
    "    print(f\"{name}: language\")\n",
    "num_responses = len(fav_languages)\n",
    "print(num_responses)"
   ]
  },
  {
   "cell_type": "code",
   "execution_count": null,
   "metadata": {},
   "outputs": [],
   "source": [
    "# Start with an empty list.\n",
    "users = []\n",
    "# Make a new user, and add them to the list.\n",
    "new_user = {\n",
    "'last': 'fermi',\n",
    "'first': 'enrico',\n",
    "'username': 'efermi',\n",
    "}\n",
    "users.append(new_user)\n",
    "print(users)\n",
    "new_user = {\n",
    "'last': 'curie',\n",
    "'first': 'marie',\n",
    "'username': 'mcurie',\n",
    "}\n",
    "users.append(new_user)\n",
    "print(users)\n",
    "# Show all information about each user.\n",
    "for user_dict in users:\n",
    "    print(user_dict)\n",
    "    for k, v in user_dict.items():\n",
    "        print(f\"{k}: {v}\")"
   ]
  },
  {
   "cell_type": "code",
   "execution_count": null,
   "metadata": {},
   "outputs": [],
   "source": [
    "# Define a list of users, where each user\n",
    "# is represented by a dictionary.\n",
    "users = [\n",
    "{\n",
    "'last': 'fermi',\n",
    "'first': 'enrico',\n",
    "'username': 'efermi',\n",
    "},\n",
    "{\n",
    "'last': 'curie',\n",
    "'first': 'marie',\n",
    "'username': 'mcurie',\n",
    "},\n",
    "]\n",
    "print(users)"
   ]
  },
  {
   "cell_type": "code",
   "execution_count": null,
   "metadata": {},
   "outputs": [],
   "source": [
    "alien_0 = {'color': 'green', 'points': 5}\n",
    "print(alien_0['color'])\n",
    "print(alien_0['points'])"
   ]
  },
  {
   "cell_type": "code",
   "execution_count": null,
   "metadata": {},
   "outputs": [],
   "source": [
    "alien_0 = {'color': 'green'}\n",
    "alien_color = alien_0.get('color')\n",
    "alien_points = alien_0.get('points', 0)\n",
    "print(alien_color)\n",
    "print(alien_points)"
   ]
  },
  {
   "cell_type": "code",
   "execution_count": null,
   "metadata": {},
   "outputs": [],
   "source": [
    "alien_0 = {'color': 'green', 'points': 5}\n",
    "alien_0['x'] = 0\n",
    "alien_0['y'] = 25\n",
    "alien_0['speed'] = 1.5"
   ]
  },
  {
   "cell_type": "code",
   "execution_count": null,
   "metadata": {},
   "outputs": [],
   "source": [
    "#Adding to an empty dictionary\n",
    "alien_0 = {}\n",
    "alien_0['color'] = 'green'\n",
    "alien_0['points'] = 5"
   ]
  },
  {
   "cell_type": "code",
   "execution_count": null,
   "metadata": {},
   "outputs": [],
   "source": [
    "#Modifying values in a dictionary\n",
    "alien_0 = {'color': 'green', 'points': 5}\n",
    "print(alien_0)\n",
    "# Change the alien's color and point value.\n",
    "alien_0['color'] = 'yellow'\n",
    "alien_0['points'] = 10\n",
    "print(alien_0)\n",
    "\n",
    "del alien_0['points']\n",
    "print(alien_0)"
   ]
  },
  {
   "cell_type": "code",
   "execution_count": null,
   "metadata": {},
   "outputs": [],
   "source": [
    "# Store people's favorite languages.\n",
    "fav_languages = {\n",
    "'jen': 'python',\n",
    "'sarah': 'c',\n",
    "'edward': 'ruby',\n",
    "'phil': 'python',\n",
    "}\n",
    "# Show each person's favorite language.\n",
    "for name, language in fav_languages.items():\n",
    "    print(f\"{name}: {language}\")\n",
    "\n",
    "# Show everyone who's taken the survey.\n",
    "for name in fav_languages.keys():\n",
    "    print(name)\n",
    "\n",
    "for language in fav_languages.values():\n",
    "    print(language)\n"
   ]
  },
  {
   "cell_type": "code",
   "execution_count": null,
   "metadata": {},
   "outputs": [],
   "source": [
    "# Show each person's favorite language, # in reverse order by the person's name.\n",
    "for name in sorted(fav_languages.keys(), reverse=True):\n",
    "    print(f\"{name}: language\")\n",
    "\n",
    "num_responses = len(fav_languages)"
   ]
  },
  {
   "cell_type": "code",
   "execution_count": null,
   "metadata": {},
   "outputs": [],
   "source": [
    "# Start with an empty list.\n",
    "users = []\n",
    "# Make a new user, and add them to the list.\n",
    "new_user = {\n",
    "'last': 'fermi',\n",
    "'first': 'enrico',\n",
    "'username': 'efermi',\n",
    "}\n",
    "users.append(new_user)\n",
    "# Make another new user, and add them as well.\n",
    "new_user = {\n",
    "'last': 'curie',\n",
    "'first': 'marie',\n",
    "'username': 'mcurie',\n",
    "}\n",
    "\n",
    "users.append(new_user)\n",
    "\n",
    "# Show all information about each user.\n",
    "for user_dict in users:\n",
    "    for k, v in user_dict.items():\n",
    "        print(f\"{k}: {v}\")"
   ]
  },
  {
   "cell_type": "code",
   "execution_count": null,
   "metadata": {},
   "outputs": [],
   "source": [
    "# Define a list of users, where each user\n",
    "# is represented by a dictionary.\n",
    "users = [\n",
    "{\n",
    "'last': 'fermi',\n",
    "'first': 'enrico',\n",
    "'username': 'efermi',\n",
    "},\n",
    "{\n",
    "'last': 'curie',\n",
    "'first': 'marie',\n",
    "'username': 'mcurie',\n",
    "},\n",
    "]\n",
    "# Show all information about each user.\n",
    "for user_dict in users:\n",
    "    for k, v in user_dict.items():\n",
    "        print(f\"{k}: {v}\")"
   ]
  },
  {
   "cell_type": "code",
   "execution_count": null,
   "metadata": {},
   "outputs": [],
   "source": [
    "# Store multiple languages for each person.\n",
    "fav_languages = {\n",
    "'jen': ['python', 'ruby'],\n",
    "'sarah': ['c'],\n",
    "'edward': ['ruby', 'go'],\n",
    "'phil': ['python', 'haskell'],\n",
    "}\n",
    "# Show all responses for each person.\n",
    "for name, langs in fav_languages.items():\n",
    "    print(f\"{name}: \")\n",
    "    for lang in langs:\n",
    "        print(f\"- {lang}\")\n"
   ]
  },
  {
   "cell_type": "code",
   "execution_count": null,
   "metadata": {},
   "outputs": [],
   "source": [
    "#Nesting ‒ A dictionary of dictionaries You can store a dictionary inside another dictionary. In this case each \n",
    "#value associated with a key is itself a dictionary.\n",
    "users = {\n",
    "'aeinstein': { 'first': 'albert', 'last': 'einstein', 'location': 'princeton', },\n",
    "'mcurie': { 'first': 'marie', 'last': 'curie', 'location': 'paris',},\n",
    "        }\n",
    "\n",
    "for username, user_dict in users.items():\n",
    "    print(\"\\nUsername: \" + username)\n",
    "    full_name = user_dict['first'] + \" \" + user_dict['last'] \n",
    "    location = user_dict['location']\n",
    "    print(f\"\\tFull name: {full_name.title()}\")\n",
    "    print(f\"\\tLocation: {location.title()}\")"
   ]
  },
  {
   "cell_type": "markdown",
   "metadata": {},
   "source": [
    "Levels of nesting: Nesting is extremely useful in certain situations. However, be aware of making your code overly complex. If you're nesting items much deeper than what you see here there are probably simpler ways of managing your data, such as using classes."
   ]
  },
  {
   "cell_type": "code",
   "execution_count": null,
   "metadata": {},
   "outputs": [],
   "source": [
    "# Using loop to make a dictionary\n",
    "squares = {}\n",
    "for x in range(5):\n",
    "    squares[x] = x**2\n",
    "    print(squares)\n",
    "#Using a dictionary comprehension\n",
    "squares = {x:x**2 for x in range(5)}"
   ]
  },
  {
   "cell_type": "code",
   "execution_count": null,
   "metadata": {},
   "outputs": [],
   "source": [
    "#Using zip() to make a dictionary\n",
    "group_1 = ['kai', 'abe', 'ada', 'gus', 'zoe']\n",
    "group_2 = ['jen', 'eva', 'dan', 'isa', 'meg']\n",
    "pairings = {key:value for key, value in zip(group_1, group_2)}\n",
    "print(pairings)\n",
    "\n",
    "for key, value in zip(group_1, group_2):\n",
    "    print(pairings)\n",
    "    break"
   ]
  },
  {
   "cell_type": "code",
   "execution_count": null,
   "metadata": {},
   "outputs": [],
   "source": [
    "#Generating a million dictionaries: Use loop to generate a large number of dict, if all dictionaries start out with similar data\n",
    "aliens = []\n",
    "# Make a million green aliens, worth 5 points each. Have them all start in one row.\n",
    "for alien_num in range(4):\n",
    "    new_alien = {}\n",
    "    new_alien['color'] = 'green'\n",
    "    new_alien['points'] = 5\n",
    "    new_alien['x'] = 20 * alien_num\n",
    "    new_alien['y'] = 0\n",
    "    aliens.append(new_alien)\n",
    "    \n",
    "# Prove the list contains a million aliens.\n",
    "num_aliens = len(aliens)\n",
    "print(aliens)\n",
    "print(\"Number of aliens created:\")\n",
    "print(num_aliens)"
   ]
  },
  {
   "cell_type": "code",
   "execution_count": null,
   "metadata": {},
   "outputs": [],
   "source": [
    "banned_users = ['ann', 'chad', 'dee']\n",
    "user = 'erin'\n",
    "if user not in banned_users:\n",
    "    print(\"You can play!\")"
   ]
  },
  {
   "cell_type": "code",
   "execution_count": null,
   "metadata": {},
   "outputs": [],
   "source": [
    "players = []\n",
    "if players:\n",
    "    for player in players:\n",
    "        print(f\"Player: {player.title()}\")\n",
    "else:\n",
    "        print(\"We have no players yet!\")"
   ]
  },
  {
   "cell_type": "code",
   "execution_count": null,
   "metadata": {},
   "outputs": [],
   "source": [
    "name = input(\"What's your name? \")\n",
    "print(f\"Hello, {name}.\")\n",
    "age = input(\"How old are you? \")\n",
    "age = int(age)\n",
    "if age >= 18:\n",
    "    print(\"\\nYou can vote!\")\n",
    "else:\n",
    "    print(\"\\nYou can't vote yet.\")"
   ]
  },
  {
   "cell_type": "code",
   "execution_count": null,
   "metadata": {},
   "outputs": [],
   "source": [
    "tip = input(\"How much do you want to tip? \")\n",
    "tip = float(tip)\n",
    "print(tip)"
   ]
  },
  {
   "cell_type": "code",
   "execution_count": null,
   "metadata": {},
   "outputs": [],
   "source": [
    "current_number = 1\n",
    "while current_number <= 5:\n",
    "    print(current_number)\n",
    "    current_number += 1"
   ]
  },
  {
   "cell_type": "code",
   "execution_count": null,
   "metadata": {},
   "outputs": [],
   "source": [
    "prompt = \"\\nTell me something, and I'll \"\n",
    "prompt += \"repeat it back to you.\"\n",
    "prompt += \"\\nEnter 'quit' to end the program. \"\n",
    "message = \"\"\n",
    "while message != 'quit':\n",
    "    message = input(prompt)\n",
    "if message != 'quit':\n",
    "    print(message)"
   ]
  },
  {
   "cell_type": "code",
   "execution_count": null,
   "metadata": {},
   "outputs": [],
   "source": [
    "prompt = \"\\nTell me something, and I'll \"\n",
    "prompt += \"repeat it back to you.\"\n",
    "prompt += \"\\nEnter 'quit' to end the program. \"\n",
    "active = True\n",
    "while active:\n",
    "    message = input(prompt)\n",
    "    if message == 'quit':\n",
    "        active = False\n",
    "    else:\n",
    "        print(message)"
   ]
  },
  {
   "cell_type": "code",
   "execution_count": null,
   "metadata": {},
   "outputs": [],
   "source": [
    "prompt = \"\\nWhat cities have you visited?\"\n",
    "prompt += \"\\nEnter 'quit' when you're done. \"\n",
    "while True:\n",
    "    city = input(prompt)\n",
    "    if city == 'quit':\n",
    "        break\n",
    "    else:\n",
    "        print(f\"I've been to {city}!\")"
   ]
  },
  {
   "cell_type": "code",
   "execution_count": null,
   "metadata": {},
   "outputs": [],
   "source": [
    "banned_users = ['eve', 'fred', 'gary', 'helen']\n",
    "prompt = \"\\nAdd a player to your team.\"\n",
    "prompt += \"\\nEnter 'quit' when you're done. \"\n",
    "players = []\n",
    "while True:\n",
    "    player = input(prompt)\n",
    "    if player == 'quit':\n",
    "        break\n",
    "    elif player in banned_users:\n",
    "        print(f\"{player} is banned!\")\n",
    "        continue\n",
    "    else:\n",
    "        players.append(player)\n",
    "\n",
    "print(\"\\nYour team:\")\n",
    "for player in players:\n",
    "    print(player)"
   ]
  },
  {
   "cell_type": "code",
   "execution_count": null,
   "metadata": {},
   "outputs": [],
   "source": [
    "#Removing all cats from a list of pets\n",
    "pets = ['dog', 'cat', 'dog', 'fish', 'cat', 'rabbit', 'cat']\n",
    "print(pets)\n",
    "while 'cat' in pets:\n",
    "    pets.remove('cat')\n",
    "    print(pets)\n",
    "print(\"Removed all cat from list: >>>>     \", pets)"
   ]
  },
  {
   "cell_type": "code",
   "execution_count": null,
   "metadata": {},
   "outputs": [],
   "source": [
    "def user(name):\n",
    "    print(f\"Hello : {name}\")\n",
    "user('ram')\n",
    "user('sham')"
   ]
  },
  {
   "cell_type": "code",
   "execution_count": null,
   "metadata": {},
   "outputs": [],
   "source": [
    "def describe_pet(animal, name):\n",
    "    print(f\"\\nI have a {animal}. Its name is {name}.\")\n",
    "\n",
    "describe_pet('hamster', 'harry')\n",
    "describe_pet('dog', 'willie')"
   ]
  },
  {
   "cell_type": "code",
   "execution_count": null,
   "metadata": {},
   "outputs": [],
   "source": [
    "def describe_pet(animal, name):\n",
    "      print(f\"\\nI have a {animal}. Its name is {name}.\")\n",
    "\n",
    "describe_pet(animal='hamster', name='harry')\n",
    "describe_pet(name='willie', animal='dog')"
   ]
  },
  {
   "cell_type": "code",
   "execution_count": null,
   "metadata": {},
   "outputs": [],
   "source": [
    "#Using a default value (animal = dog) if argument not passed to function defination\n",
    "def describe_pet(name, animal='dog'):\n",
    "    print(f\"\\nI have a {animal}. Its name is {name}.\")\n",
    "\n",
    "describe_pet('harry', 'hamster')\n",
    "describe_pet('willie')"
   ]
  },
  {
   "cell_type": "code",
   "execution_count": null,
   "metadata": {},
   "outputs": [],
   "source": [
    "#Using None to make an argument optional\n",
    "def describe_pet(animal, name=None):\n",
    "    print(f\"\\nI have a {animal}.\")\n",
    "    if name:\n",
    "        print(f\"Its name is {name}.\")\n",
    "\n",
    "describe_pet('hamster', 'harry')\n",
    "describe_pet('snake')"
   ]
  },
  {
   "cell_type": "code",
   "execution_count": null,
   "metadata": {},
   "outputs": [],
   "source": [
    "#Returning a single value\n",
    "def get_full_name(first, last):\n",
    "    \"\"\"Return a neatly formatted full name.\"\"\"\n",
    "    full_name = f\"{first} {last}\"\n",
    "    return full_name.title()\n",
    "\n",
    "musician = get_full_name('jimi', 'hendrix')\n",
    "print(musician)"
   ]
  },
  {
   "cell_type": "code",
   "execution_count": null,
   "metadata": {},
   "outputs": [],
   "source": [
    "#Returning a dictionary\n",
    "def build_person(first, last):\n",
    "    Person = {'first': first, 'last': last}\n",
    "    return Person\n",
    "\n",
    "musician = build_person('jimi', 'hendrix')\n",
    "print(musician)"
   ]
  },
  {
   "cell_type": "code",
   "execution_count": null,
   "metadata": {},
   "outputs": [],
   "source": [
    "def build_person(first, last):\n",
    "    person = {'first': first, 'last': last} #Returnig Dictinary \n",
    "      \n",
    "    return person, 6*7\n",
    "   \n",
    "musician = build_person('jimi', 'hendrix')\n",
    "print(musician)"
   ]
  },
  {
   "cell_type": "code",
   "execution_count": null,
   "metadata": {},
   "outputs": [],
   "source": [
    "def build_person(first, last, age=None):\n",
    "    person = {'first': first, 'last': last}\n",
    "    if age:\n",
    "        person['age'] = age\n",
    "    return person\n",
    "\n",
    "musician = build_person('jimi', 'hendrix', 27)\n",
    "print(musician)\n",
    "musician = build_person('janis', 'joplin')\n",
    "print(musician)"
   ]
  },
  {
   "cell_type": "code",
   "execution_count": null,
   "metadata": {},
   "outputs": [],
   "source": [
    "#Passing a list as an argument\n",
    "def greet_users(names):\n",
    "    for name in names:\n",
    "        msg = f\"Hello, {name}!\"\n",
    "        print(msg)\n",
    "\n",
    "usernames = ['hannah', 'ty', 'margot']\n",
    "greet_users(usernames)"
   ]
  },
  {
   "cell_type": "code",
   "execution_count": null,
   "metadata": {},
   "outputs": [],
   "source": [
    "def print_models(unprinted, printed):\n",
    "    while unprinted:\n",
    "        current_model = unprinted.pop()\n",
    "        print(f\"Printing {current_model}\")\n",
    "        printed.append(current_model)\n",
    "\n",
    "# Store some unprinted designs,# and print each of them.\n",
    "unprinted = ['phone case', 'pendant', 'ring']\n",
    "printed = []\n",
    "print_models(unprinted, printed)\n",
    "\n",
    "print(f\"\\nUnprinted: {unprinted}\")\n",
    "print(f\"Printed: {printed}\")"
   ]
  },
  {
   "cell_type": "code",
   "execution_count": null,
   "metadata": {},
   "outputs": [],
   "source": [
    "def print_models(unprinted, printed):\n",
    "    print(unprinted)\n",
    "    print(printed)\n",
    "    while unprinted:\n",
    "        current_model = unprinted.pop()\n",
    "        print(f\"Printing {current_model}\")\n",
    "        printed.append(current_model)\n",
    "    return printed \n",
    "    \n",
    "# Store some unprinted designs,# and print each of them.\n",
    "unprinted = ['phone case', 'pendant', 'ring']\n",
    "printed = []\n",
    "print_models(unprinted, printed)\n",
    "\n",
    "print(f\"\\nUnprinted: {unprinted}\")\n",
    "print(f\"Printed: {printed}\")"
   ]
  },
  {
   "cell_type": "code",
   "execution_count": null,
   "metadata": {},
   "outputs": [],
   "source": [
    "def print_models(unprinted, printed):\n",
    "    print(unprinted)\n",
    "    print(printed)\n",
    "    \n",
    "    while unprinted:\n",
    "        current_model = unprinted.pop()\n",
    "        print(f\"Printing {current_model}\")\n",
    "        printed.append(current_model)\n",
    "# Store some unprinted designs,\n",
    "# and print each of them.\n",
    "original = ['phone case', 'pendant', 'ring']\n",
    "printed = []\n",
    "print_models(original[:], printed)\n",
    "print(f\"\\nOriginal: {original}\")\n",
    "print(f\"Printed: {printed}\")"
   ]
  },
  {
   "cell_type": "code",
   "execution_count": null,
   "metadata": {},
   "outputs": [],
   "source": [
    "def make_pizza(size, *toppings):\n",
    "    print(f\"\\nMaking a {size} pizza.\")\n",
    "    print(\"Toppings:\")\n",
    "    for topping in toppings:\n",
    "        print(f\"- {topping}\")\n",
    "\n",
    "\n",
    "make_pizza('small', 'pepperoni')\n",
    "make_pizza('large', 'bacon bits', 'pineapple')\n",
    "make_pizza('medium', 'mushrooms', 'peppers', 'onions', 'extra cheese')"
   ]
  },
  {
   "cell_type": "code",
   "execution_count": null,
   "metadata": {},
   "outputs": [],
   "source": [
    "#Collecting an arbitrary number of keyword arguments\n",
    "def build_profile(first, last, **user_info):\n",
    "    user_info['first'] = first\n",
    "    user_info['last'] = last\n",
    "    return user_info\n",
    "\n",
    "# Create two users with different kinds, # of information.\n",
    "user_0 = build_profile('albert', 'einstein', location='princeton')\n",
    "user_1 = build_profile('marie', 'curie', location='paris', field='chemistry')\n",
    "print(user_0)\n",
    "print(user_1)"
   ]
  },
  {
   "cell_type": "code",
   "execution_count": null,
   "metadata": {},
   "outputs": [],
   "source": [
    "import pizza\n",
    "# from pizza import make_pizza\n",
    "pizza.make_pizza('medium', 'pepperoni')\n",
    "pizza.make_pizza('small', 'bacon', 'pineapple')"
   ]
  },
  {
   "cell_type": "code",
   "execution_count": null,
   "metadata": {},
   "outputs": [],
   "source": [
    "from pizza import make_pizza\n",
    "make_pizza('medium', 'pepperoni')\n",
    "make_pizza('small', 'bacon', 'pineapple')"
   ]
  },
  {
   "cell_type": "code",
   "execution_count": null,
   "metadata": {},
   "outputs": [],
   "source": [
    "#Giving a module an alias\n",
    "import pizza as p\n",
    "p.make_pizza('medium', 'pepperoni')\n",
    "p.make_pizza('small', 'bacon', 'pineapple')#"
   ]
  },
  {
   "cell_type": "code",
   "execution_count": null,
   "metadata": {},
   "outputs": [],
   "source": [
    "#Importing all functions from a module\n",
    "# from pizza import *\n",
    "#Giving a function an alias\n",
    "from pizza import make_pizza as mp\n",
    "mp('medium', 'pepperoni')\n",
    "mp('small', 'bacon', 'pineapple')"
   ]
  },
  {
   "cell_type": "code",
   "execution_count": null,
   "metadata": {},
   "outputs": [],
   "source": [
    "#The Car class\n",
    "class Car:\n",
    "    def __init__(self, make, model, year):\n",
    "        #\"\"\"Initialize car attributes.\"\"\"\n",
    "        self.make = make\n",
    "        self.model = model\n",
    "        self.year = year\n",
    "        self.fuel_capacity = 15\n",
    "        self.fuel_level = 0\n",
    "    \n",
    "    def fill_tank(self):\n",
    "        self.fuel_level = self.fuel_capacity\n",
    "        print(\"Fuel tank is full.\")\n",
    "    \n",
    "    def drive(self):\n",
    "        print(\"The car is moving.\")\n",
    "    \n",
    "    def update_fuel_level(self, new_level):\n",
    "        if new_level <= self.fuel_capacity:\n",
    "            self.fuel_level = new_level\n",
    "        else:\n",
    "            print(\"The tank can't hold that much!\")\n",
    "\n",
    "    def add_fuel(self, amount):\n",
    "        if (self.fuel_level + amount <= self.fuel_capacity):\n",
    "            self.fuel_level += amount\n",
    "            print(\"Added fuel.\")\n",
    "        else:\n",
    "            print(\"The tank won't hold that much.\")\n",
    "\n",
    "#The __init__() method for a child class\n",
    "class ElectricCar(Car):\n",
    "    def __init__(self, make, model, year):\n",
    "        super().__init__(make, model, year)\n",
    "        self.battery_size = 75\n",
    "        self.charge_level = 0\n",
    "#    Adding new methods to the child class\n",
    "class ElectricCar(Car):\n",
    "    def charge(self):\n",
    "        self.charge_level = 100\n",
    "        print(\"The vehicle is fully charged.\")\n",
    "\n",
    "my_ecar = ElectricCar('tesla', 'model s', 2019)\n",
    "my_ecar.charge()\n",
    "my_ecar.drive()\n",
    "\n",
    "\n",
    "#Creating an object from a class\n",
    "my_car = Car('audi', 'a4', 2016)\n",
    "\n",
    "#Accessing attribute values\n",
    "print(my_car.make)\n",
    "print(my_car.model)\n",
    "print(my_car.year)\n",
    "\n",
    "#Calling methods\n",
    "my_car.fill_tank()\n",
    "my_car.drive()\n",
    "\n",
    "#Creating multiple objects\n",
    "my_car = Car('audi', 'a4', 2019)\n",
    "my_old_car = Car('subaru', 'outback', 2015)\n",
    "my_truck = Car('toyota', 'tacoma', 2012)\n",
    "\n",
    "#Modifying an attribute directly\n",
    "my_new_car = Car('audi', 'a4', 2019)\n",
    "my_new_car.fuel_level = 5\n",
    "print(my_car.make)\n",
    "print(my_car.model)\n",
    "print(my_car.fuel_level)\n",
    "\n",
    "#Writing a method to update an attribute's value\n",
    "\n",
    "\n"
   ]
  },
  {
   "cell_type": "code",
   "execution_count": null,
   "metadata": {},
   "outputs": [],
   "source": [
    "class parent:\n",
    "    def __init__(self, name, age, city='Seattle'):\n",
    "        print('I am parent')\n",
    "        self.name = name\n",
    "        self.age = age\n",
    "        self.city = city \n",
    "        \n",
    "    def country(self):\n",
    "        print(\"I am country\")\n",
    "        return self.name\n",
    "    \n",
    "    def parent_child(parent):\n",
    "        child_age = parent.age\n",
    "        print(\"I am Parent_Child\")\n",
    "        return child_age\n",
    "\n",
    "class orphan(parent):\n",
    "    def __init__(self, name, age, city='Jalgaon'):\n",
    "        print('I am orphan')\n",
    "        super().__init__(name, age, city)\n",
    "        self.mall = 'Phoenix'\n",
    "        self.year = 2020\n",
    "        \n",
    "        \n",
    "obj1 = parent('M', 10)\n",
    "obj1.country()\n",
    "x = obj1.parent_child()\n",
    "print(x)\n",
    "obj1 = orphan('Mukesh', 44)\n"
   ]
  },
  {
   "cell_type": "code",
   "execution_count": null,
   "metadata": {},
   "outputs": [],
   "source": [
    "#The Car class\n",
    "class Car:\n",
    "\tdef __init__(self, make, model, year):\n",
    "        \t\t#\"\"\"Initialize car attributes.\"\"\"\n",
    "\t\tself.make = make\n",
    "\t\tself.model = model\n",
    "\t\tself.year = year\n",
    "\t\tself.fuel_capacity = 15\n",
    "\t\tself.fuel_level = 0\n",
    "  \n",
    "\tdef drive(self):\n",
    "\t\tprint(\"The car is moving.\")\n",
    "\n",
    "class Battery:\n",
    "\t#\"\"\"A battery for an electric car.\"\"\"\n",
    "\tdef __init__(self, size=75):\n",
    "\t\t#\"\"\"Initialize battery attributes.\"\"\"# Capacity in kWh, charge level in %.\n",
    "\t\tself.size = size\n",
    "\t\tself.charge_level = 0\n",
    "\tdef get_range(self):\n",
    "\t\t#\"\"\"Return the battery's range.\"\"\"\n",
    "\t\tif self.size == 75:\n",
    "\t\t\treturn 260\n",
    "\t\telif self.size == 100:\n",
    "\t\t\treturn 315\n",
    "\n",
    "#Using an instance as an attribute\n",
    "class ElectricCar(Car):\n",
    "\tdef __init__(self, make, model, year):\n",
    "\t\t\"\"\"Initialize an electric car.\"\"\"\n",
    "\t\tsuper().__init__(make, model, year)\n",
    "\t\t# Attribute specific to electric cars.\n",
    "\t\tself.battery = Battery()\n",
    "\n",
    "\tdef charge(self):\n",
    "        \t\t\"\"\"Fully charge the vehicle.\"\"\"\n",
    "        \t\tself.battery.charge_level = 100\n",
    "        \t\tprint(\"The vehicle is fully charged.\")\n",
    "\n",
    "#Using the instance\n",
    "my_ecar = ElectricCar('tesla', 'model x', 2019)\n",
    "my_ecar.charge()\n",
    "print(my_ecar.battery.get_range())\n",
    "my_ecar.drive()\n",
    "\n"
   ]
  },
  {
   "cell_type": "code",
   "execution_count": null,
   "metadata": {},
   "outputs": [],
   "source": [
    "filename = 'SecretPasswordFile.txt'\n",
    "with open(filename) as f_obj:\n",
    "    contents = f_obj.read()\n",
    "    print(contents)"
   ]
  },
  {
   "cell_type": "code",
   "execution_count": null,
   "metadata": {},
   "outputs": [],
   "source": [
    "filename = 'SecretPasswordFile.txt'\n",
    "with open(filename) as f_obj:\n",
    "    for line in f_obj.readlines():\n",
    "        print(line.rstrip()) #rstrip() remove /n next line "
   ]
  },
  {
   "cell_type": "code",
   "execution_count": null,
   "metadata": {},
   "outputs": [],
   "source": [
    "filename = 'SecretPasswordFile.txt'\n",
    "with open(filename) as f_obj:\n",
    "    lines = f_obj.readlines()\n",
    "    for line in lines:\n",
    "        print(line.rstrip())"
   ]
  },
  {
   "cell_type": "code",
   "execution_count": null,
   "metadata": {},
   "outputs": [],
   "source": [
    "#Writing to an empty file\n",
    "filename = 'programming.txt'\n",
    "with open(filename, 'w') as f: # close the file once operations is done.\n",
    "    f.write(\"I love programming!\\n\")\n",
    "    f.write(\"I love creating new games.\\n\")\n",
    "\n",
    "with open(filename) as f:\n",
    "    print(f.readlines())"
   ]
  },
  {
   "cell_type": "code",
   "execution_count": null,
   "metadata": {},
   "outputs": [],
   "source": [
    "filename = 'programming.txt'\n",
    "with open(filename, 'a') as f:\n",
    "    f.write(\"I am Mukesh.\\n\")\n",
    "    f.write(\"I love football.\\n\")\n",
    "with open(filename) as f:\n",
    "    print(f.readlines())"
   ]
  },
  {
   "cell_type": "code",
   "execution_count": null,
   "metadata": {},
   "outputs": [],
   "source": [
    "f_path = \"C:/Users/patilmuk/Python/programming.txt\"\n",
    "with open(f_path) as f:\n",
    "    lines = f.readlines()\n",
    "    for line in lines:\n",
    "        print(line.rstrip())"
   ]
  },
  {
   "cell_type": "code",
   "execution_count": null,
   "metadata": {},
   "outputs": [],
   "source": [
    "try:\n",
    "    print(5/0)\n",
    "except ZeroDivisionError:\n",
    "    print(\"You can't divide by zero!\")"
   ]
  },
  {
   "cell_type": "code",
   "execution_count": null,
   "metadata": {},
   "outputs": [],
   "source": [
    "f_name = 'siddhartha.txt'\n",
    "try:\n",
    "    with open(f_name) as f:\n",
    "        lines = f.readlines()\n",
    "except FileNotFoundError:\n",
    "    msg = f\"Can’t find file: {f_name}.\"\n",
    "    print(msg)"
   ]
  },
  {
   "cell_type": "code",
   "execution_count": null,
   "metadata": {},
   "outputs": [],
   "source": [
    "print(\"Enter two numbers. I'll divide them.\")\n",
    "x = input(\"First number: \")\n",
    "y = input(\"Second number: \")\n",
    "try:\n",
    "    result = int(x) / int(y)\n",
    "except ZeroDivisionError:\n",
    "    print(\"You can't divide by zero!\")\n",
    "else:\n",
    "    print(result)"
   ]
  },
  {
   "cell_type": "code",
   "execution_count": null,
   "metadata": {},
   "outputs": [],
   "source": [
    "# \"\"\"A simple calculator for division only.\"\"\"\n",
    "print(\"Enter two numbers. I'll divide them.\")\n",
    "print(\"Enter 'q' to quit.\")\n",
    "while True:\n",
    "    x = input(\"\\nFirst number: \")\n",
    "    if x == 'q':\n",
    "        break\n",
    "    y = input(\"Second number: \")\n",
    "    if y == 'q':\n",
    "        break\n",
    "    try:\n",
    "        result = int(x) / int(y)\n",
    "    except ZeroDivisionError:\n",
    "        print(\"You can't divide by zero!\")\n",
    "    else:\n",
    "        print(result)"
   ]
  },
  {
   "cell_type": "code",
   "execution_count": null,
   "metadata": {},
   "outputs": [],
   "source": [
    "f_names = ['alice.txt', 'siddhartha.txt', 'moby_dick.txt', 'little_women.txt']\n",
    "for f_name in f_names:\n",
    "# Report the length of each file found.\n",
    "    try:\n",
    "        with open(f_name) as f:\n",
    "            lines = f.readlines()\n",
    "    #except FileNotFoundError:\n",
    "    except FileNotFoundError as FileMissing:    \n",
    "        # Just move on to the next file.\n",
    "            pass\n",
    "    else:\n",
    "            num_lines = len(lines)\n",
    "            msg = f\"{f_name} has {num_lines}\"\n",
    "            msg += \" lines.\"\n",
    "            print(msg)"
   ]
  },
  {
   "cell_type": "code",
   "execution_count": null,
   "metadata": {},
   "outputs": [],
   "source": [
    "try:\n",
    "    a = 10/0\n",
    "except:\n",
    "    print(\"Error\")\n",
    "print(\"Hello\")"
   ]
  },
  {
   "cell_type": "code",
   "execution_count": null,
   "metadata": {},
   "outputs": [],
   "source": [
    "import json\n",
    "data = [1, 2, 3, 5, 7, 33]\n",
    "with open(filename, w)"
   ]
  },
  {
   "cell_type": "code",
   "execution_count": null,
   "metadata": {},
   "outputs": [],
   "source": [
    "from name_function import *\n",
    "get_formatted_name(\"Mukesh\", \"Patil\")"
   ]
  },
  {
   "cell_type": "code",
   "execution_count": null,
   "metadata": {},
   "outputs": [],
   "source": [
    "from name_function import get_formatted_name\n",
    "\n",
    "print(\"Enter 'q' at any time to quit.\")\n",
    "while True:\n",
    "    first = input(\"\\nPlease give me a first name: \")\n",
    "    if first == 'q':\n",
    "        break\n",
    "    last = input(\"Please give me a last name: \")\n",
    "    if last == 'q':\n",
    "        break\n",
    "    formatted_name = get_formatted_name(first, last)\n",
    "    print(\"\\tNeatly formatted name: \" + formatted_name + '.')"
   ]
  },
  {
   "cell_type": "code",
   "execution_count": null,
   "metadata": {},
   "outputs": [],
   "source": [
    "import unittest \n",
    "from name_function import get_formatted_name\n",
    "\n",
    "class NamesTestCase(unittest.TestCase):\n",
    "\t#\"\"\"Tests for 'name_function.py'.\"\"\"\n",
    "\tdef test_first_last_name(self):\n",
    "\t\t#\"\"\"Do names like 'Janis Joplin' work?\"\"\"\n",
    "\t\tformatted_name = get_formatted_name('janis', 'joplin')\n",
    "\t\tself.assertEqual(formatted_name, 'Janis Joplin')\n",
    "       \n",
    "\n",
    "if __name__ == '__main__':\n",
    "    unittest.main(argv=['first-arg-is-ignored'], exit=False)"
   ]
  },
  {
   "cell_type": "code",
   "execution_count": null,
   "metadata": {},
   "outputs": [],
   "source": [
    "import unittest\n",
    "from name_function import get_formatted_name\n",
    "class myclass(unittest.TestCase):\n",
    "    def myfun(self):\n",
    "        name = get_name('a', 'b')\n",
    "        self.assertEqual(name, 'A', 'B')\n",
    "\n",
    "if __name__ == '__main__':\n",
    "      unittest.main(argv=['name'], exit=False)"
   ]
  },
  {
   "cell_type": "markdown",
   "metadata": {},
   "source": [
    "A variety of assert methods Python provides a number of assert methods you can use to test your code.\n",
    "\n",
    "    Verify that a == b, or a != b\n",
    "    assertEqual(a, b)\n",
    "    assertNotEqual(a, b)\n",
    "\n",
    "    Verify that x is True, or x is False\n",
    "    assertTrue(x)\n",
    "    assertFalse(x)\n",
    "\n",
    "    Verify an item is in a list, or not in a list\n",
    "    assertIn(item, list)\n",
    "    assertNotIn(item, list)"
   ]
  },
  {
   "cell_type": "code",
   "execution_count": null,
   "metadata": {},
   "outputs": [],
   "source": [
    "'''For the first test, we’ll make sure we can start out with different initial balances. Save this as test_accountant.py. '''\n",
    "import unittest\n",
    "from accountant import Accountant\n",
    "\n",
    "class TestAccountant(unittest.TestCase):\n",
    "    '''Tests for the class Accountant.'''\n",
    "    \n",
    "    def test_initial_balance(self):\n",
    "        # Default balance should be 0.\n",
    "        acc = Accountant()\n",
    "        self.assertEqual(acc.balance, 0)\n",
    "        '''Test non-default balance.'''\n",
    "        acc = Accountant(100)\n",
    "        self.assertEqual(acc.balance, 100)\n",
    "\n",
    "if __name__ == '__main__':\n",
    "    unittest.main(argv=['first-arg-is-ignored'], exit=False)"
   ]
  },
  {
   "cell_type": "code",
   "execution_count": 10,
   "metadata": {},
   "outputs": [
    {
     "name": "stderr",
     "output_type": "stream",
     "text": [
      "F..\n",
      "======================================================================\n",
      "FAIL: test_deposit (__main__.TestAccount)\n",
      "Test Single Deposit\n",
      "----------------------------------------------------------------------\n",
      "Traceback (most recent call last):\n",
      "  File \"<ipython-input-10-5bb3611d1bf7>\", line 26, in test_deposit\n",
      "    self.assertEqual(self.acc.balance, 900)\n",
      "AssertionError: 1000 != 900\n",
      "\n",
      "----------------------------------------------------------------------\n",
      "Ran 3 tests in 0.004s\n",
      "\n",
      "FAILED (failures=1)\n"
     ]
    }
   ],
   "source": [
    "import unittest\n",
    "from accountant import Accountant\n",
    "\n",
    "class TestAccount(unittest.TestCase):\n",
    "\t''' Test for the class account'''\n",
    "\t\n",
    "\tdef setUp(self):\n",
    "\t\tself.acc = Accountant()\n",
    "\t\n",
    "\tdef test_initial_balance(self):\n",
    "\t\t'''Default balance should be 0'''\t\n",
    "\t\tself.assertEqual(self.acc.balance, 0)\n",
    "\n",
    "\t\t'''Test non-default balance'''\n",
    "\t\tacc = Accountant(100)\n",
    "\t\tself.assertEqual(acc.balance, 100)\n",
    "\n",
    "\tdef test_deposit(self):\n",
    "\t\t'''Test Single Deposit'''\n",
    "\t\tself.acc.deposit(100)\n",
    "\t\tself.assertEqual(self.acc.balance, 100)\n",
    "\t\t\n",
    "\t\t'''Test multiple deposit'''\n",
    "\t\tself.acc.deposit(1000)\n",
    "\t\tself.acc.withdraw(100)\n",
    "\t\tself.assertEqual(self.acc.balance, 900)\n",
    "\n",
    "\tdef test_withdrawal(self):\n",
    "\t\t''' Test single withdrawal.'''\n",
    "\t\tself.acc.deposit(1000)\n",
    "\t\tself.acc.withdraw(100)\n",
    "\t\tself.assertEqual(self.acc.balance, 900)\n",
    "\n",
    "if __name__ == '__main__':\n",
    "    #unittest.main()\n",
    "    unittest.main(argv=['name'], exit=False)"
   ]
  },
  {
   "cell_type": "code",
   "execution_count": 1,
   "metadata": {},
   "outputs": [
    {
     "name": "stdout",
     "output_type": "stream",
     "text": [
      "Requirement already satisfied: pygame in c:\\users\\patilmuk\\appdata\\roaming\\python\\python38\\site-packages (1.9.6)\n",
      "Note: you may need to restart the kernel to use updated packages.\n"
     ]
    },
    {
     "name": "stderr",
     "output_type": "stream",
     "text": [
      "WARNING: You are using pip version 19.2.3, however version 20.1.1 is available.\n",
      "You should consider upgrading via the 'python -m pip install --upgrade pip' command.\n"
     ]
    }
   ],
   "source": [
    "pip install --user pygame"
   ]
  },
  {
   "cell_type": "code",
   "execution_count": null,
   "metadata": {},
   "outputs": [],
   "source": []
  }
 ],
 "metadata": {
  "kernelspec": {
   "display_name": "Python 3",
   "language": "python",
   "name": "python3"
  },
  "language_info": {
   "codemirror_mode": {
    "name": "ipython",
    "version": 3
   },
   "file_extension": ".py",
   "mimetype": "text/x-python",
   "name": "python",
   "nbconvert_exporter": "python",
   "pygments_lexer": "ipython3",
   "version": "3.8.3"
  }
 },
 "nbformat": 4,
 "nbformat_minor": 4
}
