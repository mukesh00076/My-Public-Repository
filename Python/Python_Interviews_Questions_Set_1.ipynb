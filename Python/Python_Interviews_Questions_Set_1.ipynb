{
 "cells": [
  {
   "cell_type": "code",
   "execution_count": 100,
   "metadata": {},
   "outputs": [
    {
     "data": {
      "image/png": "[encoded data removed]",
      "text/plain": [
       "<Figure size 432x288 with 1 Axes>"
      ]
     },
     "metadata": {
      "needs_background": "light"
     },
     "output_type": "display_data"
    }
   ],
   "source": [
    "import numpy as np\n",
    "import matplotlib.pyplot as plt\n",
    "\n",
    "x = np.arange(-33, 3, 0.1)\n",
    "y = np.sin(x)\n",
    "plt.plot(x, y)\n",
    "plt.show()"
   ]
  },
  {
   "cell_type": "code",
   "execution_count": 101,
   "metadata": {},
   "outputs": [],
   "source": [
    "echo \"# jupyter_notebook_version_control\" >> README.md"
   ]
  },
  {
   "cell_type": "code",
   "execution_count": 104,
   "metadata": {},
   "outputs": [
    {
     "name": "stdout",
     "output_type": "stream",
     "text": [
      "****************************************\n",
      "\n",
      ":: COURSE MANAGEMENT :: \n",
      "\n",
      "****************************************\n",
      "\n",
      "\n",
      "########################################\n",
      "\n",
      " :: User Manual :: \n",
      "\n",
      "########################################\n",
      "\n",
      "Press 1. Insert a new Course\n",
      "\n",
      "Press 2. Show all courses\n",
      "\n",
      "Press 3. Delete a course (NEED ID OF COURSE)\n",
      "\n",
      "########################################\n",
      "\n",
      "\n"
     ]
    },
    {
     "name": "stdin",
     "output_type": "stream",
     "text": [
      "\n",
      " Enter a choice:  2\n"
     ]
    },
    {
     "name": "stdout",
     "output_type": "stream",
     "text": [
      "\n",
      ":: Course List ::\n",
      "\n",
      "Course ID : 1\n",
      "Course Name : DB\n",
      "Course description : New DB Videos\n",
      "Course Price : 100$\n",
      "Is Private : NO\n",
      "\n",
      "\n",
      "\n",
      "Course ID : 3\n",
      "Course Name : hghg\n",
      "Course description : jjjkk\n",
      "Course Price : 665\n",
      "Is Private : Yes\n",
      "\n",
      "\n",
      "\n",
      "Course ID : 4\n",
      "Course Name : rff\n",
      "Course description : 23v sd\n",
      "Course Price : 234\n",
      "Is Private : NO\n",
      "\n",
      "\n"
     ]
    }
   ],
   "source": [
    "import sqlite3 as lite\n",
    "\n",
    "# TODO: provide interface to user\n",
    "\n",
    "def main():\n",
    "    print(\"*\"*40)\n",
    "    print(\"\\n:: COURSE MANAGEMENT :: \\n\")\n",
    "    print(\"*\"*40)\n",
    "    print(\"\\n\")\n",
    "\n",
    "    db = DatabaseManage()\n",
    "\n",
    "    print(\"#\"*40)\n",
    "    print(\"\\n :: User Manual :: \\n\")\n",
    "    print(\"#\"*40)\n",
    "\n",
    "    print('\\nPress 1. Insert a new Course\\n')\n",
    "    print('Press 2. Show all courses\\n')\n",
    "    print('Press 3. Delete a course (NEED ID OF COURSE)\\n')\n",
    "    print(\"#\"*40)\n",
    "    print(\"\\n\")\n",
    "\n",
    "    choice = input(\"\\n Enter a choice: \")\n",
    "\n",
    "    if choice == \"1\":\n",
    "        name = input(\"\\n Enter course name: \")\n",
    "        description = input(\"\\n Enter course description: \")\n",
    "        price = input(\"\\n Enter course price: \")\n",
    "        private = input(\"\\n Is this course private (0/1): \")\n",
    "\n",
    "        if db.insert_data([name, description, price, private]):\n",
    "            print(\"Course was inserted successfully\")\n",
    "        else:\n",
    "            print(\"OOPS SOMEthing is wrong\")\n",
    "\n",
    "\n",
    "    elif choice == \"2\":\n",
    "        print(\"\\n:: Course List ::\")\n",
    "\n",
    "        for index, item in enumerate(db.fetch_data()):\n",
    "            print(\"\\nCourse ID : \" + str(item[0]))\n",
    "            print(\"Course Name : \" + str(item[1]))\n",
    "            print(\"Course description : \" + str(item[2]))\n",
    "            print(\"Course Price : \" + str(item[3]))\n",
    "            private = 'Yes' if item[4] else 'NO'\n",
    "            print(\"Is Private : \" + private)\n",
    "            print(\"\\n\")\n",
    "\n",
    "    elif choice == \"3\":\n",
    "        record_id = input(\"Enter the course ID: \")\n",
    "\n",
    "        if db.delete_data(record_id):\n",
    "            print(\"Course was deleted with a success\")\n",
    "        else:\n",
    "            print(\"OOPS SOMETHING WENT WRONG\")\n",
    "\n",
    "    else:\n",
    "        print(\"\\n BAD CHOICE\")\n",
    "        \n",
    "\n",
    "# functionality goes here\n",
    "\n",
    "class DatabaseManage(object):\n",
    "\n",
    "    def __init__(self):\n",
    "        global con\n",
    "        try:\n",
    "            con = lite.connect('courses.db')\n",
    "            #with con:\n",
    "            cur = con.cursor()\n",
    "            cur.execute(\n",
    "                    \"CREATE TABLE IF NOT EXISTS course(Id INTEGER PRIMARY KEY AUTOINCREMENT, name TEXT, description TEXT, price TEXT, is_private BOOLEAN NOT NULL DEFAULT 1)\"                    )\n",
    "        except Exception:\n",
    "            print(\"Unable to create a DB !\")\n",
    "        \n",
    "\n",
    "    # TODO: create data\n",
    "    def insert_data(self, data):\n",
    "        try:\n",
    "            with con:\n",
    "                cur = con.cursor()\n",
    "                cur.execute(\n",
    "                    \"INSERT INTO course(name, description, price, is_private) VALUES (?,?,?,?)\", data\n",
    "                    )\n",
    "                return True\n",
    "        except Exception:\n",
    "            return False\n",
    "\n",
    "    # TODO: read data\n",
    "    def fetch_data(self):\n",
    "        try:\n",
    "            with con:\n",
    "                cur = con.cursor()\n",
    "                cur.execute(\"SELECT * FROM course\")\n",
    "                return cur.fetchall()\n",
    "        except Exception:\n",
    "            return False\n",
    "\n",
    "    # TODO: delete data\n",
    "    def delete_data(self, id):\n",
    "        try:\n",
    "            with con:\n",
    "                cur = con.cursor()\n",
    "                sql = \"DELETE FROM course WHERE id = ?\"\n",
    "                cur.execute(sql, [id])\n",
    "                return True\n",
    "        except Exception:\n",
    "            return False\n",
    "\n",
    "\n",
    "if __name__ == '__main__':\n",
    "    main()"
   ]
  },
  {
   "cell_type": "code",
   "execution_count": 105,
   "metadata": {},
   "outputs": [
    {
     "name": "stdout",
     "output_type": "stream",
     "text": [
      "dict_keys(['key1', 2])\n"
     ]
    },
    {
     "data": {
      "text/plain": [
       "dict_values([['val1', 'val2', 'val3'], 'value'])"
      ]
     },
     "execution_count": 105,
     "metadata": {},
     "output_type": "execute_result"
    }
   ],
   "source": [
    "disc = {'key1':['val1', 'val2', 'val3'], 2 : 'value'}\n",
    "\n",
    "print(disc.keys())\n",
    "disc.values()"
   ]
  },
  {
   "cell_type": "code",
   "execution_count": 47,
   "metadata": {},
   "outputs": [
    {
     "name": "stdout",
     "output_type": "stream",
     "text": [
      "Enter Name: \n"
     ]
    },
    {
     "name": "stdin",
     "output_type": "stream",
     "text": [
      " www\n"
     ]
    },
    {
     "name": "stdout",
     "output_type": "stream",
     "text": [
      "Enter Age: \n"
     ]
    },
    {
     "name": "stdin",
     "output_type": "stream",
     "text": [
      " 22\n"
     ]
    },
    {
     "name": "stdout",
     "output_type": "stream",
     "text": [
      "You Name is www and 22\n",
      "Enter Name: \n"
     ]
    },
    {
     "name": "stdin",
     "output_type": "stream",
     "text": [
      " ewwede\n"
     ]
    },
    {
     "name": "stdout",
     "output_type": "stream",
     "text": [
      "Enter Age: \n"
     ]
    },
    {
     "name": "stdin",
     "output_type": "stream",
     "text": [
      " 23\n"
     ]
    },
    {
     "name": "stdout",
     "output_type": "stream",
     "text": [
      "You Name is ewwede and 23\n"
     ]
    }
   ],
   "source": [
    "class human:\n",
    "    def name(self):\n",
    "        print(\"Enter Name: \")\n",
    "        self.name = input()\n",
    "        return self.name\n",
    "    def age(self):\n",
    "        print(\"Enter Age: \")\n",
    "        self.age = input()\n",
    "        return self.age\n",
    "\n",
    "person1 = human()\n",
    "person1.name()\n",
    "person1.age()\n",
    "print(f\"You Name is {person1.name} and {person1.age}\")\n",
    "\n",
    "person2 = human()\n",
    "person2.name()\n",
    "person2.age()\n",
    "print(f\"You Name is {person2.name} and {person2.age}\")"
   ]
  },
  {
   "cell_type": "code",
   "execution_count": 79,
   "metadata": {},
   "outputs": [
    {
     "name": "stdout",
     "output_type": "stream",
     "text": [
      "I am father\n",
      "I am child\n"
     ]
    }
   ],
   "source": [
    "class father:\n",
    "    def __init__(self):\n",
    "        print(\"I am father\")\n",
    "        \n",
    "class child(father):\n",
    "    def __init__(self):\n",
    "        super().__init__()\n",
    "        print(\"I am child\")\n",
    "        \n",
    "obj = child()"
   ]
  },
  {
   "cell_type": "code",
   "execution_count": 121,
   "metadata": {},
   "outputs": [
    {
     "name": "stdout",
     "output_type": "stream",
     "text": [
      "[5 7 9]\n",
      "[ 6 15]\n"
     ]
    },
    {
     "data": {
      "text/plain": [
       "array([[[1, 2, 3]],\n",
       "\n",
       "       [[4, 5, 6]]])"
      ]
     },
     "execution_count": 121,
     "metadata": {},
     "output_type": "execute_result"
    }
   ],
   "source": [
    "import numpy as np\n",
    "a = np.array([1, 2, 3])\n",
    "b = np.array([4, 5, 6])\n",
    "\n",
    "print(a + b)\n",
    "print(np.sum((a, b), axis = 1))\n",
    "\n",
    "\n",
    "c = np.array([[a], [b]])\n",
    "c"
   ]
  },
  {
   "cell_type": "code",
   "execution_count": 113,
   "metadata": {},
   "outputs": [
    {
     "data": {
      "text/plain": [
       "array([[0., 0., 0., 0., 0.],\n",
       "       [0., 0., 0., 0., 0.],\n",
       "       [0., 0., 0., 0., 0.],\n",
       "       [0., 0., 0., 0., 0.],\n",
       "       [0., 0., 0., 0., 0.]])"
      ]
     },
     "execution_count": 113,
     "metadata": {},
     "output_type": "execute_result"
    }
   ],
   "source": [
    "import numpy as np\n",
    "a = np.zeros((5, 5))\n",
    "a"
   ]
  },
  {
   "cell_type": "code",
   "execution_count": 126,
   "metadata": {},
   "outputs": [
    {
     "name": "stdout",
     "output_type": "stream",
     "text": [
      "[  2   5  12  43  54  68 100]\n",
      "[ 68 100]\n"
     ]
    },
    {
     "data": {
      "text/plain": [
       "array([100,  68])"
      ]
     },
     "execution_count": 126,
     "metadata": {},
     "output_type": "execute_result"
    }
   ],
   "source": [
    "import numpy as np\n",
    "x = np.array([12, 43, 2, 100, 54, 5, 68])\n",
    "\n",
    "print(x[np.argsort(x)])\n",
    "print(x[np.argsort(x) [-2:]])\n",
    "\n",
    "x[np.argsort(x) [-2:][::-1]]\n"
   ]
  },
  {
   "cell_type": "code",
   "execution_count": 166,
   "metadata": {},
   "outputs": [
    {
     "name": "stdout",
     "output_type": "stream",
     "text": [
      "   0\n",
      "0  1\n",
      "1  2\n",
      "2  3\n",
      "3  4\n",
      "4  5\n",
      "{'Fruit': ['Orange', 'Banana', 'Apple', 'Grapes'], 'Vegitables': ['Cabbage', '', 'Locky', None]}\n"
     ]
    },
    {
     "data": {
      "text/html": [
       "<div>\n",
       "<style scoped>\n",
       "    .dataframe tbody tr th:only-of-type {\n",
       "        vertical-align: middle;\n",
       "    }\n",
       "\n",
       "    .dataframe tbody tr th {\n",
       "        vertical-align: top;\n",
       "    }\n",
       "\n",
       "    .dataframe thead th {\n",
       "        text-align: right;\n",
       "    }\n",
       "</style>\n",
       "<table border=\"1\" class=\"dataframe\">\n",
       "  <thead>\n",
       "    <tr style=\"text-align: right;\">\n",
       "      <th></th>\n",
       "      <th>Fruit</th>\n",
       "      <th>Vegitables</th>\n",
       "    </tr>\n",
       "  </thead>\n",
       "  <tbody>\n",
       "    <tr>\n",
       "      <th>0</th>\n",
       "      <td>Orange</td>\n",
       "      <td>Cabbage</td>\n",
       "    </tr>\n",
       "    <tr>\n",
       "      <th>1</th>\n",
       "      <td>Banana</td>\n",
       "      <td></td>\n",
       "    </tr>\n",
       "    <tr>\n",
       "      <th>2</th>\n",
       "      <td>Apple</td>\n",
       "      <td>Locky</td>\n",
       "    </tr>\n",
       "    <tr>\n",
       "      <th>3</th>\n",
       "      <td>Grapes</td>\n",
       "      <td>None</td>\n",
       "    </tr>\n",
       "  </tbody>\n",
       "</table>\n",
       "</div>"
      ],
      "text/plain": [
       "    Fruit Vegitables\n",
       "0  Orange    Cabbage\n",
       "1  Banana           \n",
       "2   Apple      Locky\n",
       "3  Grapes       None"
      ]
     },
     "execution_count": 166,
     "metadata": {},
     "output_type": "execute_result"
    }
   ],
   "source": [
    "import pandas as pd\n",
    "list = [1,2,3,4,5]\n",
    "df = pd.DataFrame(list)\n",
    "print(df)\n",
    "\n",
    "dict1 = {'Fruit': ['Orange', 'Banana', 'Apple', 'Grapes'],'Vegitables': ['Cabbage', '', 'Locky', None]}\n",
    "print(dict1)\n",
    "pd.DataFrame(dict1)\n"
   ]
  },
  {
   "cell_type": "code",
   "execution_count": null,
   "metadata": {},
   "outputs": [],
   "source": []
  },
  {
   "cell_type": "code",
   "execution_count": null,
   "metadata": {},
   "outputs": [],
   "source": []
  },
  {
   "cell_type": "code",
   "execution_count": null,
   "metadata": {},
   "outputs": [],
   "source": []
  }
 ],
 "metadata": {
  "kernelspec": {
   "display_name": "Python 3",
   "language": "python",
   "name": "python3"
  },
  "language_info": {
   "codemirror_mode": {
    "name": "ipython",
    "version": 3
   },
   "file_extension": ".py",
   "mimetype": "text/x-python",
   "name": "python",
   "nbconvert_exporter": "python",
   "pygments_lexer": "ipython3",
   "version": "3.8.3"
  }
 },
 "nbformat": 4,
 "nbformat_minor": 4
}
